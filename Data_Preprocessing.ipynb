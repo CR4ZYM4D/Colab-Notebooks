{
  "cells": [
    {
      "cell_type": "markdown",
      "metadata": {
        "id": "view-in-github",
        "colab_type": "text"
      },
      "source": [
        "<a href=\"https://colab.research.google.com/github/CR4ZYM4D/Colab-Notebooks/blob/main/Data_Preprocessing.ipynb\" target=\"_parent\"><img src=\"https://colab.research.google.com/assets/colab-badge.svg\" alt=\"Open In Colab\"/></a>"
      ]
    },
    {
      "cell_type": "markdown",
      "source": [
        "# Importing Datasets and Libraries"
      ],
      "metadata": {
        "id": "RDlvY1-pzDAK"
      }
    },
    {
      "cell_type": "code",
      "source": [
        "import pandas as pd"
      ],
      "metadata": {
        "id": "TH_IVoWXzDfa"
      },
      "execution_count": null,
      "outputs": []
    },
    {
      "cell_type": "code",
      "source": [
        "from google.colab import drive\n",
        "drive.mount('/content/drive')"
      ],
      "metadata": {
        "id": "Le0EyjEi7Ixc",
        "outputId": "e9729444-1d5e-49f7-8109-cafe67aea038",
        "colab": {
          "base_uri": "https://localhost:8080/"
        }
      },
      "execution_count": null,
      "outputs": [
        {
          "output_type": "stream",
          "name": "stdout",
          "text": [
            "Drive already mounted at /content/drive; to attempt to forcibly remount, call drive.mount(\"/content/drive\", force_remount=True).\n"
          ]
        }
      ]
    },
    {
      "cell_type": "code",
      "source": [
        "data_path = '/content/drive/MyDrive/Datasets/IMDB Dataset.csv'"
      ],
      "metadata": {
        "id": "-xZbCTTw73CI"
      },
      "execution_count": null,
      "outputs": []
    },
    {
      "cell_type": "markdown",
      "source": [
        "# Reading Dataset and making reviews fully lowercase"
      ],
      "metadata": {
        "id": "lWka8Kl55QAH"
      }
    },
    {
      "cell_type": "code",
      "source": [
        "data_file = pd.read_csv(data_path)"
      ],
      "metadata": {
        "id": "nxqyFAlk8JMv"
      },
      "execution_count": null,
      "outputs": []
    },
    {
      "cell_type": "code",
      "source": [
        "for i in data_file.index:\n",
        "  data_file.loc[i,'review'] = data_file.loc[i,'review'].lower()"
      ],
      "metadata": {
        "id": "QAmWvxbb9Tq-"
      },
      "execution_count": null,
      "outputs": []
    },
    {
      "cell_type": "markdown",
      "source": [],
      "metadata": {
        "id": "q4FKWf7uzD1S"
      }
    },
    {
      "cell_type": "markdown",
      "source": [
        "#Removing HTML Tags"
      ],
      "metadata": {
        "id": "UhzldpYcAAcs"
      }
    },
    {
      "cell_type": "code",
      "source": [
        "import re\n",
        "pattern = re.compile('<.*?>')\n",
        "for i in data_file.index:\n",
        "  data_file.loc[i,'review'] = re.sub(pattern,'',data_file.loc[i,'review'])"
      ],
      "metadata": {
        "id": "OIHArU8MCamc"
      },
      "execution_count": null,
      "outputs": []
    }
  ],
  "metadata": {
    "colab": {
      "provenance": [],
      "include_colab_link": true
    },
    "kernelspec": {
      "display_name": "Python 3",
      "name": "python3"
    }
  },
  "nbformat": 4,
  "nbformat_minor": 0
}